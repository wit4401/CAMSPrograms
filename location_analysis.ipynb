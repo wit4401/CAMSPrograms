{
 "cells": [
  {
   "attachments": {},
   "cell_type": "markdown",
   "metadata": {},
   "source": [
    "# Location Analysis\n",
    "This is a data analysis on the location of dining for college students at George Mason University based on many factors including caloric intake, macronutrient information, and other interesting factors. In the analysis presented location is going to be our *independent* variable and we will be using the listed factors as our *dependent* variables.\n",
    "\n",
    "# General Setup"
   ]
  },
  {
   "cell_type": "code",
   "execution_count": 16,
   "metadata": {},
   "outputs": [
    {
     "data": {
      "text/html": [
       "<div>\n",
       "<style scoped>\n",
       "    .dataframe tbody tr th:only-of-type {\n",
       "        vertical-align: middle;\n",
       "    }\n",
       "\n",
       "    .dataframe tbody tr th {\n",
       "        vertical-align: top;\n",
       "    }\n",
       "\n",
       "    .dataframe thead th {\n",
       "        text-align: right;\n",
       "    }\n",
       "</style>\n",
       "<table border=\"1\" class=\"dataframe\">\n",
       "  <thead>\n",
       "    <tr style=\"text-align: right;\">\n",
       "      <th></th>\n",
       "      <th>USERID</th>\n",
       "      <th>DS1</th>\n",
       "      <th>DS2</th>\n",
       "      <th>DS3</th>\n",
       "      <th>DS4</th>\n",
       "      <th>DS5</th>\n",
       "      <th>DS7</th>\n",
       "      <th>DS8</th>\n",
       "      <th>DS9</th>\n",
       "      <th>DS10</th>\n",
       "      <th>...</th>\n",
       "      <th>A1</th>\n",
       "      <th>A2</th>\n",
       "      <th>A3</th>\n",
       "      <th>A4</th>\n",
       "      <th>A5</th>\n",
       "      <th>A6</th>\n",
       "      <th>A7</th>\n",
       "      <th>A8</th>\n",
       "      <th>A9</th>\n",
       "      <th>A12</th>\n",
       "    </tr>\n",
       "  </thead>\n",
       "  <tbody>\n",
       "    <tr>\n",
       "      <th>0</th>\n",
       "      <td>1</td>\n",
       "      <td>4/13/22</td>\n",
       "      <td>2</td>\n",
       "      <td>m1</td>\n",
       "      <td>5:45:00 PM</td>\n",
       "      <td>3</td>\n",
       "      <td>1</td>\n",
       "      <td>0</td>\n",
       "      <td>0</td>\n",
       "      <td>0</td>\n",
       "      <td>...</td>\n",
       "      <td>88.50</td>\n",
       "      <td>377.30500</td>\n",
       "      <td>19.81200</td>\n",
       "      <td>8.24880</td>\n",
       "      <td>313.10500</td>\n",
       "      <td>43.16230</td>\n",
       "      <td>3.17950</td>\n",
       "      <td>18.0245</td>\n",
       "      <td>7.92630</td>\n",
       "      <td>16.0</td>\n",
       "    </tr>\n",
       "    <tr>\n",
       "      <th>1</th>\n",
       "      <td>1</td>\n",
       "      <td>4/13/22</td>\n",
       "      <td>2</td>\n",
       "      <td>m2</td>\n",
       "      <td>9:40:00 PM</td>\n",
       "      <td>5</td>\n",
       "      <td>1</td>\n",
       "      <td>0</td>\n",
       "      <td>0</td>\n",
       "      <td>0</td>\n",
       "      <td>...</td>\n",
       "      <td>367.25</td>\n",
       "      <td>599.03178</td>\n",
       "      <td>34.40398</td>\n",
       "      <td>7.26697</td>\n",
       "      <td>336.86758</td>\n",
       "      <td>50.18035</td>\n",
       "      <td>9.71593</td>\n",
       "      <td>6.9408</td>\n",
       "      <td>25.94335</td>\n",
       "      <td>113.7</td>\n",
       "    </tr>\n",
       "    <tr>\n",
       "      <th>2</th>\n",
       "      <td>1</td>\n",
       "      <td>4/14/22</td>\n",
       "      <td>3</td>\n",
       "      <td>m1</td>\n",
       "      <td>5:20:00 PM</td>\n",
       "      <td>4</td>\n",
       "      <td>9</td>\n",
       "      <td>5</td>\n",
       "      <td>9</td>\n",
       "      <td>0</td>\n",
       "      <td>...</td>\n",
       "      <td>28.00</td>\n",
       "      <td>106.72550</td>\n",
       "      <td>4.55250</td>\n",
       "      <td>3.90500</td>\n",
       "      <td>66.51050</td>\n",
       "      <td>15.28210</td>\n",
       "      <td>1.23940</td>\n",
       "      <td>11.8609</td>\n",
       "      <td>1.67540</td>\n",
       "      <td>1.1</td>\n",
       "    </tr>\n",
       "    <tr>\n",
       "      <th>3</th>\n",
       "      <td>1</td>\n",
       "      <td>4/14/22</td>\n",
       "      <td>3</td>\n",
       "      <td>m2</td>\n",
       "      <td>6:35:00 PM</td>\n",
       "      <td>5</td>\n",
       "      <td>1</td>\n",
       "      <td>0</td>\n",
       "      <td>0</td>\n",
       "      <td>0</td>\n",
       "      <td>...</td>\n",
       "      <td>464.73</td>\n",
       "      <td>767.21230</td>\n",
       "      <td>49.34390</td>\n",
       "      <td>7.36020</td>\n",
       "      <td>817.52090</td>\n",
       "      <td>71.92980</td>\n",
       "      <td>8.26050</td>\n",
       "      <td>19.4149</td>\n",
       "      <td>11.98130</td>\n",
       "      <td>113.7</td>\n",
       "    </tr>\n",
       "    <tr>\n",
       "      <th>4</th>\n",
       "      <td>1</td>\n",
       "      <td>4/14/22</td>\n",
       "      <td>3</td>\n",
       "      <td>m3</td>\n",
       "      <td>9:36:00 PM</td>\n",
       "      <td>6</td>\n",
       "      <td>1</td>\n",
       "      <td>1</td>\n",
       "      <td>1</td>\n",
       "      <td>0</td>\n",
       "      <td>...</td>\n",
       "      <td>0.00</td>\n",
       "      <td>160.00000</td>\n",
       "      <td>0.00000</td>\n",
       "      <td>0.00000</td>\n",
       "      <td>10.00000</td>\n",
       "      <td>25.00000</td>\n",
       "      <td>0.00000</td>\n",
       "      <td>10.0000</td>\n",
       "      <td>0.00000</td>\n",
       "      <td>0.0</td>\n",
       "    </tr>\n",
       "    <tr>\n",
       "      <th>...</th>\n",
       "      <td>...</td>\n",
       "      <td>...</td>\n",
       "      <td>...</td>\n",
       "      <td>...</td>\n",
       "      <td>...</td>\n",
       "      <td>...</td>\n",
       "      <td>...</td>\n",
       "      <td>...</td>\n",
       "      <td>...</td>\n",
       "      <td>...</td>\n",
       "      <td>...</td>\n",
       "      <td>...</td>\n",
       "      <td>...</td>\n",
       "      <td>...</td>\n",
       "      <td>...</td>\n",
       "      <td>...</td>\n",
       "      <td>...</td>\n",
       "      <td>...</td>\n",
       "      <td>...</td>\n",
       "      <td>...</td>\n",
       "      <td>...</td>\n",
       "    </tr>\n",
       "    <tr>\n",
       "      <th>3243</th>\n",
       "      <td>41</td>\n",
       "      <td>5/8/22</td>\n",
       "      <td>4</td>\n",
       "      <td>m2</td>\n",
       "      <td>12:00:00 PM</td>\n",
       "      <td>3</td>\n",
       "      <td>3</td>\n",
       "      <td>4</td>\n",
       "      <td>3</td>\n",
       "      <td>0</td>\n",
       "      <td>...</td>\n",
       "      <td>316.00</td>\n",
       "      <td>954.81000</td>\n",
       "      <td>44.50540</td>\n",
       "      <td>9.52880</td>\n",
       "      <td>2024.11000</td>\n",
       "      <td>100.35540</td>\n",
       "      <td>2.46800</td>\n",
       "      <td>15.9624</td>\n",
       "      <td>38.24420</td>\n",
       "      <td>5.4</td>\n",
       "    </tr>\n",
       "    <tr>\n",
       "      <th>3244</th>\n",
       "      <td>41</td>\n",
       "      <td>5/8/22</td>\n",
       "      <td>4</td>\n",
       "      <td>m3</td>\n",
       "      <td>8:00:00 PM</td>\n",
       "      <td>6</td>\n",
       "      <td>3</td>\n",
       "      <td>15</td>\n",
       "      <td>2</td>\n",
       "      <td>0</td>\n",
       "      <td>...</td>\n",
       "      <td>183.00</td>\n",
       "      <td>440.00000</td>\n",
       "      <td>17.00000</td>\n",
       "      <td>4.00000</td>\n",
       "      <td>1400.00000</td>\n",
       "      <td>41.00000</td>\n",
       "      <td>1.00000</td>\n",
       "      <td>6.0000</td>\n",
       "      <td>29.00000</td>\n",
       "      <td>2.0</td>\n",
       "    </tr>\n",
       "    <tr>\n",
       "      <th>3245</th>\n",
       "      <td>41</td>\n",
       "      <td>5/8/22</td>\n",
       "      <td>4</td>\n",
       "      <td>m4</td>\n",
       "      <td>9:00:00 PM</td>\n",
       "      <td>5</td>\n",
       "      <td>1</td>\n",
       "      <td>1</td>\n",
       "      <td>1</td>\n",
       "      <td>0</td>\n",
       "      <td>...</td>\n",
       "      <td>67.00</td>\n",
       "      <td>261.97000</td>\n",
       "      <td>11.99970</td>\n",
       "      <td>1.96710</td>\n",
       "      <td>180.23000</td>\n",
       "      <td>37.65400</td>\n",
       "      <td>0.20100</td>\n",
       "      <td>27.9993</td>\n",
       "      <td>2.00330</td>\n",
       "      <td>1.4</td>\n",
       "    </tr>\n",
       "    <tr>\n",
       "      <th>3246</th>\n",
       "      <td>41</td>\n",
       "      <td>5/9/22</td>\n",
       "      <td>3</td>\n",
       "      <td>m1</td>\n",
       "      <td>8:00:00 AM</td>\n",
       "      <td>1</td>\n",
       "      <td>1</td>\n",
       "      <td>0</td>\n",
       "      <td>0</td>\n",
       "      <td>0</td>\n",
       "      <td>...</td>\n",
       "      <td>0.00</td>\n",
       "      <td>255.00000</td>\n",
       "      <td>6.50000</td>\n",
       "      <td>2.25000</td>\n",
       "      <td>217.50000</td>\n",
       "      <td>37.00000</td>\n",
       "      <td>1.50000</td>\n",
       "      <td>27.0000</td>\n",
       "      <td>12.00000</td>\n",
       "      <td>15.0</td>\n",
       "    </tr>\n",
       "    <tr>\n",
       "      <th>3247</th>\n",
       "      <td>41</td>\n",
       "      <td>5/9/22</td>\n",
       "      <td>3</td>\n",
       "      <td>m2</td>\n",
       "      <td>12:00:00 PM</td>\n",
       "      <td>3</td>\n",
       "      <td>1</td>\n",
       "      <td>0</td>\n",
       "      <td>0</td>\n",
       "      <td>0</td>\n",
       "      <td>...</td>\n",
       "      <td>110.00</td>\n",
       "      <td>186.90000</td>\n",
       "      <td>2.36850</td>\n",
       "      <td>0.95340</td>\n",
       "      <td>91.25000</td>\n",
       "      <td>33.09850</td>\n",
       "      <td>1.89000</td>\n",
       "      <td>0.5915</td>\n",
       "      <td>7.51100</td>\n",
       "      <td>1.0</td>\n",
       "    </tr>\n",
       "  </tbody>\n",
       "</table>\n",
       "<p>3248 rows × 24 columns</p>\n",
       "</div>"
      ],
      "text/plain": [
       "      USERID      DS1  DS2 DS3          DS4  DS5  DS7  DS8  DS9  DS10  ...  \\\n",
       "0          1  4/13/22    2  m1   5:45:00 PM    3    1    0    0     0  ...   \n",
       "1          1  4/13/22    2  m2   9:40:00 PM    5    1    0    0     0  ...   \n",
       "2          1  4/14/22    3  m1   5:20:00 PM    4    9    5    9     0  ...   \n",
       "3          1  4/14/22    3  m2   6:35:00 PM    5    1    0    0     0  ...   \n",
       "4          1  4/14/22    3  m3   9:36:00 PM    6    1    1    1     0  ...   \n",
       "...      ...      ...  ...  ..          ...  ...  ...  ...  ...   ...  ...   \n",
       "3243      41   5/8/22    4  m2  12:00:00 PM    3    3    4    3     0  ...   \n",
       "3244      41   5/8/22    4  m3   8:00:00 PM    6    3   15    2     0  ...   \n",
       "3245      41   5/8/22    4  m4   9:00:00 PM    5    1    1    1     0  ...   \n",
       "3246      41   5/9/22    3  m1   8:00:00 AM    1    1    0    0     0  ...   \n",
       "3247      41   5/9/22    3  m2  12:00:00 PM    3    1    0    0     0  ...   \n",
       "\n",
       "          A1         A2        A3       A4          A5         A6       A7  \\\n",
       "0      88.50  377.30500  19.81200  8.24880   313.10500   43.16230  3.17950   \n",
       "1     367.25  599.03178  34.40398  7.26697   336.86758   50.18035  9.71593   \n",
       "2      28.00  106.72550   4.55250  3.90500    66.51050   15.28210  1.23940   \n",
       "3     464.73  767.21230  49.34390  7.36020   817.52090   71.92980  8.26050   \n",
       "4       0.00  160.00000   0.00000  0.00000    10.00000   25.00000  0.00000   \n",
       "...      ...        ...       ...      ...         ...        ...      ...   \n",
       "3243  316.00  954.81000  44.50540  9.52880  2024.11000  100.35540  2.46800   \n",
       "3244  183.00  440.00000  17.00000  4.00000  1400.00000   41.00000  1.00000   \n",
       "3245   67.00  261.97000  11.99970  1.96710   180.23000   37.65400  0.20100   \n",
       "3246    0.00  255.00000   6.50000  2.25000   217.50000   37.00000  1.50000   \n",
       "3247  110.00  186.90000   2.36850  0.95340    91.25000   33.09850  1.89000   \n",
       "\n",
       "           A8        A9    A12  \n",
       "0     18.0245   7.92630   16.0  \n",
       "1      6.9408  25.94335  113.7  \n",
       "2     11.8609   1.67540    1.1  \n",
       "3     19.4149  11.98130  113.7  \n",
       "4     10.0000   0.00000    0.0  \n",
       "...       ...       ...    ...  \n",
       "3243  15.9624  38.24420    5.4  \n",
       "3244   6.0000  29.00000    2.0  \n",
       "3245  27.9993   2.00330    1.4  \n",
       "3246  27.0000  12.00000   15.0  \n",
       "3247   0.5915   7.51100    1.0  \n",
       "\n",
       "[3248 rows x 24 columns]"
      ]
     },
     "execution_count": 16,
     "metadata": {},
     "output_type": "execute_result"
    }
   ],
   "source": [
    "import numpy as np\n",
    "from matplotlib import pyplot as plt\n",
    "import pandas as pd\n",
    "\n",
    "#reading in data from data file (dining location and macronutrient information)\n",
    "data = pd.read_csv('data.csv',header=[0])\n",
    "data"
   ]
  },
  {
   "attachments": {},
   "cell_type": "markdown",
   "metadata": {},
   "source": [
    "Right now, let's begin with the relationship with eating location and pure caloric intake. Using the code below we can construct a scatterplot with the data we want to analyze just to see any trends."
   ]
  },
  {
   "cell_type": "code",
   "execution_count": 17,
   "metadata": {},
   "outputs": [
    {
     "name": "stderr",
     "output_type": "stream",
     "text": [
      "/var/folders/wp/t9z10fyn0c5cm_wcytbbdlyw0000gp/T/ipykernel_9168/2345581753.py:4: SettingWithCopyWarning: \n",
      "A value is trying to be set on a copy of a slice from a DataFrame\n",
      "\n",
      "See the caveats in the documentation: https://pandas.pydata.org/pandas-docs/stable/user_guide/indexing.html#returning-a-view-versus-a-copy\n",
      "  data['DS7'][val]=9\n"
     ]
    },
    {
     "data": {
      "text/plain": [
       "Text(0.5, 0, 'Location')"
      ]
     },
     "execution_count": 17,
     "metadata": {},
     "output_type": "execute_result"
    },
    {
     "data": {
      "image/png": "[encoded data removed]",
      "text/plain": [
       "<Figure size 640x480 with 1 Axes>"
      ]
     },
     "metadata": {},
     "output_type": "display_data"
    }
   ],
   "source": [
    "# not sufficient values for 'transit' point so it will be included into 'other' for this analysis.\n",
    "for val in range(len(data['DS7'])):\n",
    "    if data['DS7'][val]==10:\n",
    "        data['DS7'][val]=9\n",
    "\n",
    "x,y=(data['DS7'],data['A2'])\n",
    "plt.scatter(x,y)\n",
    "plt.ylabel('Calories')\n",
    "plt.xlabel('Location')"
   ]
  },
  {
   "attachments": {},
   "cell_type": "markdown",
   "metadata": {},
   "source": [
    "By the looks of it our data is pretty similar in placement/distribution, so I think that our best bet here is to use ANOVA since our dependent value here is continuous and the independent is a  multinomial categorical value. But in order to see if we can use ANOVA we must confirm a few things:\n",
    "* the dependent data is normally distributed\n",
    "* the variances are homogeneous (they are equal b/n treatment groups)\n",
    "* observations are sample independently from one another\n",
    "* the dependent variable is continuous\n",
    "\n",
    "Two of these are easy to determine. Point 3 and 4 hold true. I don't know straight away about the 1st and 2nd ones though so we need to look a little closer."
   ]
  },
  {
   "cell_type": "code",
   "execution_count": 18,
   "metadata": {},
   "outputs": [
    {
     "data": {
      "text/plain": [
       "<AxesSubplot:ylabel='Frequency'>"
      ]
     },
     "execution_count": 18,
     "metadata": {},
     "output_type": "execute_result"
    },
    {
     "data": {
      "image/png": "[encoded data removed]",
      "text/plain": [
       "<Figure size 640x480 with 1 Axes>"
      ]
     },
     "metadata": {},
     "output_type": "display_data"
    }
   ],
   "source": [
    "y.plot(kind=\"hist\",bins=100)"
   ]
  },
  {
   "attachments": {},
   "cell_type": "markdown",
   "metadata": {},
   "source": [
    "Much like we determined in the data summary a lot of the data pertaining to the nutrient information is skewed to the right on the histogram which seem to indicate a non normal distribution. However we can fix this by taking the cubed root and transforming the caloric intake data. Below is how we are going to visualize this data with the ANOVA analysis."
   ]
  },
  {
   "cell_type": "code",
   "execution_count": 19,
   "metadata": {},
   "outputs": [
    {
     "name": "stderr",
     "output_type": "stream",
     "text": [
      "/var/folders/wp/t9z10fyn0c5cm_wcytbbdlyw0000gp/T/ipykernel_9168/3738891489.py:2: SettingWithCopyWarning: \n",
      "A value is trying to be set on a copy of a slice from a DataFrame\n",
      "\n",
      "See the caveats in the documentation: https://pandas.pydata.org/pandas-docs/stable/user_guide/indexing.html#returning-a-view-versus-a-copy\n",
      "  data['A2'][i]=data['A2'][i]**(1/3)\n"
     ]
    },
    {
     "data": {
      "text/plain": [
       "<AxesSubplot:ylabel='Frequency'>"
      ]
     },
     "execution_count": 19,
     "metadata": {},
     "output_type": "execute_result"
    },
    {
     "data": {
      "image/png": "[encoded data removed]",
      "text/plain": [
       "<Figure size 640x480 with 1 Axes>"
      ]
     },
     "metadata": {},
     "output_type": "display_data"
    }
   ],
   "source": [
    "for i in range(len(data['A2'])):\n",
    "    data['A2'][i]=data['A2'][i]**(1/3)\n",
    "data['A2'].plot.hist(bins=100)"
   ]
  },
  {
   "attachments": {},
   "cell_type": "markdown",
   "metadata": {},
   "source": [
    "Even though the distribution here is considered normal one more step can be taken to ensure we deal with significant outliers in the data. The following boxplots and histogram show a before and after of removing outliers to help our results be as accurate and statistically significant as possible."
   ]
  },
  {
   "cell_type": "code",
   "execution_count": 20,
   "metadata": {},
   "outputs": [
    {
     "data": {
      "image/png": "[encoded data removed]",
      "text/plain": [
       "<Figure size 640x480 with 1 Axes>"
      ]
     },
     "metadata": {},
     "output_type": "display_data"
    },
    {
     "data": {
      "image/png": "[encoded data removed]",
      "text/plain": [
       "<Figure size 640x480 with 1 Axes>"
      ]
     },
     "metadata": {},
     "output_type": "display_data"
    }
   ],
   "source": [
    "Q1 = data['A2'].quantile(0.25)\n",
    "Q3 = data['A2'].quantile(0.75)\n",
    "iqr = Q3-Q1\n",
    "ul = Q3+1.5*iqr\n",
    "ll = Q1-1.5*iqr\n",
    "outliers=[]\n",
    "\n",
    "for i in range(len(data)):\n",
    "    if data['A2'][i]>ul or data['A2'][i]<ll:\n",
    "        outliers.append(i)\n",
    "\n",
    "new_data=data.drop(outliers)\n",
    "plt.boxplot([new_data[new_data['DS7']==val+1]['A2'] for val in range(9)])\n",
    "plt.show()\n",
    "plt.hist(new_data['A2'],bins=100)\n",
    "plt.show()"
   ]
  },
  {
   "attachments": {},
   "cell_type": "markdown",
   "metadata": {},
   "source": [
    "# ANOVA Analysis (General Calories)\n",
    "The first way we are going to analyze the caloric intake's relationship with location is looking into general caloric intake among participants."
   ]
  },
  {
   "cell_type": "code",
   "execution_count": 21,
   "metadata": {},
   "outputs": [
    {
     "name": "stdout",
     "output_type": "stream",
     "text": [
      "Variance Test\n",
      "0.6796711341853645 > 0.05 ?\n",
      "\n",
      "ANOVA Results\n",
      "f-value: 7.354914427170451\n",
      "p-value: 9.81246463051727e-10\n",
      "\n",
      "Basic Information of Each Group\n"
     ]
    },
    {
     "data": {
      "text/html": [
       "<div>\n",
       "<style scoped>\n",
       "    .dataframe tbody tr th:only-of-type {\n",
       "        vertical-align: middle;\n",
       "    }\n",
       "\n",
       "    .dataframe tbody tr th {\n",
       "        vertical-align: top;\n",
       "    }\n",
       "\n",
       "    .dataframe thead th {\n",
       "        text-align: right;\n",
       "    }\n",
       "</style>\n",
       "<table border=\"1\" class=\"dataframe\">\n",
       "  <thead>\n",
       "    <tr style=\"text-align: right;\">\n",
       "      <th></th>\n",
       "      <th>loc 1</th>\n",
       "      <th>loc 2</th>\n",
       "      <th>loc 3</th>\n",
       "      <th>loc 4</th>\n",
       "      <th>loc 5</th>\n",
       "      <th>loc 6</th>\n",
       "      <th>loc 7</th>\n",
       "      <th>loc 8</th>\n",
       "      <th>loc 9</th>\n",
       "    </tr>\n",
       "  </thead>\n",
       "  <tbody>\n",
       "    <tr>\n",
       "      <th>mean</th>\n",
       "      <td>7.663037</td>\n",
       "      <td>8.085497</td>\n",
       "      <td>7.685789</td>\n",
       "      <td>8.229089</td>\n",
       "      <td>8.599258</td>\n",
       "      <td>7.198004</td>\n",
       "      <td>7.717380</td>\n",
       "      <td>7.807782</td>\n",
       "      <td>7.817116</td>\n",
       "    </tr>\n",
       "    <tr>\n",
       "      <th>stdev</th>\n",
       "      <td>1.831661</td>\n",
       "      <td>1.792343</td>\n",
       "      <td>1.758286</td>\n",
       "      <td>1.905779</td>\n",
       "      <td>1.895604</td>\n",
       "      <td>2.037465</td>\n",
       "      <td>1.973561</td>\n",
       "      <td>1.868258</td>\n",
       "      <td>1.747686</td>\n",
       "    </tr>\n",
       "    <tr>\n",
       "      <th>variance</th>\n",
       "      <td>3.354983</td>\n",
       "      <td>3.212495</td>\n",
       "      <td>3.091570</td>\n",
       "      <td>3.631995</td>\n",
       "      <td>3.593313</td>\n",
       "      <td>4.151264</td>\n",
       "      <td>3.894944</td>\n",
       "      <td>3.490388</td>\n",
       "      <td>3.054406</td>\n",
       "    </tr>\n",
       "  </tbody>\n",
       "</table>\n",
       "</div>"
      ],
      "text/plain": [
       "             loc 1     loc 2     loc 3     loc 4     loc 5     loc 6  \\\n",
       "mean      7.663037  8.085497  7.685789  8.229089  8.599258  7.198004   \n",
       "stdev     1.831661  1.792343  1.758286  1.905779  1.895604  2.037465   \n",
       "variance  3.354983  3.212495  3.091570  3.631995  3.593313  4.151264   \n",
       "\n",
       "             loc 7     loc 8     loc 9  \n",
       "mean      7.717380  7.807782  7.817116  \n",
       "stdev     1.973561  1.868258  1.747686  \n",
       "variance  3.894944  3.490388  3.054406  "
      ]
     },
     "execution_count": 21,
     "metadata": {},
     "output_type": "execute_result"
    }
   ],
   "source": [
    "import scipy.stats as stats\n",
    "import statistics\n",
    "\n",
    "print('Homogeneity Variance Test')\n",
    "f,p=stats.levene(new_data[new_data['DS7']==1]['A2'],new_data[new_data['DS7']==2]['A2'],\n",
    "                 new_data[new_data['DS7']==3]['A2'],new_data[new_data['DS7']==4]['A2'],\n",
    "                 new_data[new_data['DS7']==5]['A2'],new_data[new_data['DS7']==6]['A2'],\n",
    "                 new_data[new_data['DS7']==7]['A2'],new_data[new_data['DS7']==8]['A2'],\n",
    "                 new_data[new_data['DS7']==9]['A2'])\n",
    "print(str(p)+' > 0.05 ?\\n')\n",
    "\n",
    "print('ANOVA Results')\n",
    "f_value,p_value=stats.f_oneway(new_data[new_data['DS7']==1]['A2'],new_data[new_data['DS7']==2]['A2'],\n",
    "                               new_data[new_data['DS7']==3]['A2'],new_data[new_data['DS7']==4]['A2'],\n",
    "                               new_data[new_data['DS7']==5]['A2'],new_data[new_data['DS7']==6]['A2'],\n",
    "                               new_data[new_data['DS7']==7]['A2'],new_data[new_data['DS7']==8]['A2'],\n",
    "                               new_data[new_data['DS7']==9]['A2'])\n",
    "print('f-value:',f_value)\n",
    "print(\"p-value:\",p_value)\n",
    "\n",
    "stat_dict={}\n",
    "for i in range(9):\n",
    "    stat_dict['loc ' + str(i+1)]=[statistics.mean(new_data[new_data['DS7']==i+1]['A2']),\n",
    "                                  statistics.stdev(new_data[new_data['DS7']==i+1]['A2']),\n",
    "                                  statistics.variance(new_data[new_data['DS7']==i+1]['A2'])]\n",
    "print('\\nBasic Information of Each Group')\n",
    "results=pd.DataFrame(stat_dict,index=['mean','stdev','variance'])\n",
    "results"
   ]
  },
  {
   "cell_type": "code",
   "execution_count": 22,
   "metadata": {},
   "outputs": [
    {
     "name": "stdout",
     "output_type": "stream",
     "text": [
      "General Analysis\n",
      "                sum_sq      df         F    PR(>F)\n",
      "DS7           7.696108     1.0  2.244017  0.134233\n",
      "Residual  10775.841245  3142.0       NaN       NaN\n"
     ]
    }
   ],
   "source": [
    "import statsmodels.api as sm\n",
    "from statsmodels.formula.api import ols\n",
    "\n",
    "test=pd.DataFrame({'DS7':new_data['DS7'],'A2':new_data['A2']})\n",
    "\n",
    "print('General Analysis')\n",
    "model=ols('A2~DS7',data=test).fit()\n",
    "print(sm.stats.anova_lm(model,typ=2))"
   ]
  },
  {
   "attachments": {},
   "cell_type": "markdown",
   "metadata": {},
   "source": [
    "# ANOVA Analysis (Individual Analysis)\n",
    "The second way we are going to analyze the caloric intake's relationship with location is through an individual analysis of each participant."
   ]
  },
  {
   "cell_type": "code",
   "execution_count": 23,
   "metadata": {},
   "outputs": [
    {
     "data": {
      "text/plain": [
       "[]"
      ]
     },
     "execution_count": 23,
     "metadata": {},
     "output_type": "execute_result"
    },
    {
     "data": {
      "image/png": "[encoded data removed]",
      "text/plain": [
       "<Figure size 640x480 with 1 Axes>"
      ]
     },
     "metadata": {},
     "output_type": "display_data"
    }
   ],
   "source": [
    "individuals=[]\n",
    "for i in range(9):\n",
    "    loc_list=[]\n",
    "    for j in range(41):\n",
    "        value=new_data[(new_data['USERID']==j+1) & (new_data['DS7']==i+1)]['A2'].mean()\n",
    "        if not np.isnan(value):\n",
    "            loc_list.append(value)\n",
    "    individuals.append(loc_list)\n",
    "\n",
    "plt.boxplot(individuals)\n",
    "plt.plot()"
   ]
  },
  {
   "cell_type": "code",
   "execution_count": 24,
   "metadata": {},
   "outputs": [
    {
     "name": "stdout",
     "output_type": "stream",
     "text": [
      "Variance Test\n",
      "0.0514093890736513 > 0.05 ?\n",
      "\n",
      "ANOVA Results\n",
      "f-value: 3.8664437523446193\n",
      "p-value: 9.81246463051727e-10\n",
      "\n",
      "Basic Information of Each Group\n"
     ]
    },
    {
     "data": {
      "text/html": [
       "<div>\n",
       "<style scoped>\n",
       "    .dataframe tbody tr th:only-of-type {\n",
       "        vertical-align: middle;\n",
       "    }\n",
       "\n",
       "    .dataframe tbody tr th {\n",
       "        vertical-align: top;\n",
       "    }\n",
       "\n",
       "    .dataframe thead th {\n",
       "        text-align: right;\n",
       "    }\n",
       "</style>\n",
       "<table border=\"1\" class=\"dataframe\">\n",
       "  <thead>\n",
       "    <tr style=\"text-align: right;\">\n",
       "      <th></th>\n",
       "      <th>loc 1</th>\n",
       "      <th>loc 2</th>\n",
       "      <th>loc 3</th>\n",
       "      <th>loc 4</th>\n",
       "      <th>loc 5</th>\n",
       "      <th>loc 6</th>\n",
       "      <th>loc 7</th>\n",
       "      <th>loc 8</th>\n",
       "      <th>loc 9</th>\n",
       "    </tr>\n",
       "  </thead>\n",
       "  <tbody>\n",
       "    <tr>\n",
       "      <th>mean</th>\n",
       "      <td>7.726721</td>\n",
       "      <td>8.254846</td>\n",
       "      <td>7.928997</td>\n",
       "      <td>8.060263</td>\n",
       "      <td>8.963377</td>\n",
       "      <td>7.456807</td>\n",
       "      <td>7.460943</td>\n",
       "      <td>7.913681</td>\n",
       "      <td>8.019469</td>\n",
       "    </tr>\n",
       "    <tr>\n",
       "      <th>stdev</th>\n",
       "      <td>0.644498</td>\n",
       "      <td>1.489846</td>\n",
       "      <td>1.308512</td>\n",
       "      <td>1.120455</td>\n",
       "      <td>1.272309</td>\n",
       "      <td>1.631735</td>\n",
       "      <td>1.501010</td>\n",
       "      <td>1.160583</td>\n",
       "      <td>1.078662</td>\n",
       "    </tr>\n",
       "    <tr>\n",
       "      <th>variance</th>\n",
       "      <td>0.415378</td>\n",
       "      <td>2.219643</td>\n",
       "      <td>1.712205</td>\n",
       "      <td>1.255420</td>\n",
       "      <td>1.618769</td>\n",
       "      <td>2.662559</td>\n",
       "      <td>2.253032</td>\n",
       "      <td>1.346952</td>\n",
       "      <td>1.163512</td>\n",
       "    </tr>\n",
       "  </tbody>\n",
       "</table>\n",
       "</div>"
      ],
      "text/plain": [
       "             loc 1     loc 2     loc 3     loc 4     loc 5     loc 6  \\\n",
       "mean      7.726721  8.254846  7.928997  8.060263  8.963377  7.456807   \n",
       "stdev     0.644498  1.489846  1.308512  1.120455  1.272309  1.631735   \n",
       "variance  0.415378  2.219643  1.712205  1.255420  1.618769  2.662559   \n",
       "\n",
       "             loc 7     loc 8     loc 9  \n",
       "mean      7.460943  7.913681  8.019469  \n",
       "stdev     1.501010  1.160583  1.078662  \n",
       "variance  2.253032  1.346952  1.163512  "
      ]
     },
     "execution_count": 24,
     "metadata": {},
     "output_type": "execute_result"
    }
   ],
   "source": [
    "print('Homogeneity Variance Test')\n",
    "f,p=stats.levene(individuals[0],individuals[1],\n",
    "                 individuals[2],individuals[3],\n",
    "                 individuals[4],individuals[5],\n",
    "                 individuals[6],individuals[7],\n",
    "                 individuals[8])\n",
    "print(str(p)+' > 0.05 ?\\n')\n",
    "\n",
    "print('ANOVA Results')\n",
    "f_value,pvalue=stats.f_oneway(individuals[0],individuals[1],\n",
    "                              individuals[2],individuals[3],\n",
    "                              individuals[4],individuals[5],\n",
    "                              individuals[6],individuals[7],\n",
    "                              individuals[8])\n",
    "print('f-value:',f_value)\n",
    "print(\"p-value:\",p_value)\n",
    "\n",
    "stat_dict={}\n",
    "for i in range(9):\n",
    "    stat_dict['loc ' + str(i+1)]=[statistics.mean(individuals[i]),statistics.stdev(individuals[i]),statistics.variance(individuals[i])]\n",
    "\n",
    "print('\\nBasic Information of Each Group')\n",
    "results=pd.DataFrame(stat_dict,index=['mean','stdev','variance'])\n",
    "results"
   ]
  },
  {
   "attachments": {},
   "cell_type": "markdown",
   "metadata": {},
   "source": [
    "# ANOVA Analysis (Day by Day Analysis)\n",
    "The final way we are going to analyze the caloric intake's relationship with location is through an day by day analysis of a general overview of caloric intake and location."
   ]
  },
  {
   "cell_type": "code",
   "execution_count": 29,
   "metadata": {},
   "outputs": [
    {
     "data": {
      "text/plain": [
       "[]"
      ]
     },
     "execution_count": 29,
     "metadata": {},
     "output_type": "execute_result"
    },
    {
     "data": {
      "image/png": "[encoded data removed]",
      "text/plain": [
       "<Figure size 640x480 with 1 Axes>"
      ]
     },
     "metadata": {},
     "output_type": "display_data"
    }
   ],
   "source": [
    "day_by_day=[]\n",
    "for loc in range(9):\n",
    "    loc_list=[]\n",
    "    for day in new_data['DS1'].unique():\n",
    "        value=new_data[(new_data['DS1']==day) & (new_data['DS7']==loc+1)]['A2'].mean()\n",
    "        if not np.isnan(value):\n",
    "            loc_list.append(value)\n",
    "    day_by_day.append(loc_list)\n",
    "\n",
    "plt.boxplot(day_by_day)\n",
    "plt.plot()"
   ]
  },
  {
   "cell_type": "code",
   "execution_count": 32,
   "metadata": {},
   "outputs": [
    {
     "name": "stdout",
     "output_type": "stream",
     "text": [
      "Homogeneity Variance Test\n",
      "3.2404917873417046e-06 > 0.05 ?\n",
      "\n",
      "ANOVA Results\n",
      "f-value: 4.751118384303854\n",
      "p-value: 9.81246463051727e-10\n",
      "\n",
      "Basic Information of Each Group\n"
     ]
    },
    {
     "data": {
      "text/html": [
       "<div>\n",
       "<style scoped>\n",
       "    .dataframe tbody tr th:only-of-type {\n",
       "        vertical-align: middle;\n",
       "    }\n",
       "\n",
       "    .dataframe tbody tr th {\n",
       "        vertical-align: top;\n",
       "    }\n",
       "\n",
       "    .dataframe thead th {\n",
       "        text-align: right;\n",
       "    }\n",
       "</style>\n",
       "<table border=\"1\" class=\"dataframe\">\n",
       "  <thead>\n",
       "    <tr style=\"text-align: right;\">\n",
       "      <th></th>\n",
       "      <th>loc 1</th>\n",
       "      <th>loc 2</th>\n",
       "      <th>loc 3</th>\n",
       "      <th>loc 4</th>\n",
       "      <th>loc 5</th>\n",
       "      <th>loc 6</th>\n",
       "      <th>loc 7</th>\n",
       "      <th>loc 8</th>\n",
       "      <th>loc 9</th>\n",
       "    </tr>\n",
       "  </thead>\n",
       "  <tbody>\n",
       "    <tr>\n",
       "      <th>mean</th>\n",
       "      <td>7.674511</td>\n",
       "      <td>8.130277</td>\n",
       "      <td>7.822657</td>\n",
       "      <td>8.210888</td>\n",
       "      <td>8.792314</td>\n",
       "      <td>7.241038</td>\n",
       "      <td>7.707534</td>\n",
       "      <td>7.791320</td>\n",
       "      <td>7.895915</td>\n",
       "    </tr>\n",
       "    <tr>\n",
       "      <th>stdev</th>\n",
       "      <td>0.346511</td>\n",
       "      <td>1.298563</td>\n",
       "      <td>1.199831</td>\n",
       "      <td>1.687343</td>\n",
       "      <td>1.204600</td>\n",
       "      <td>1.526401</td>\n",
       "      <td>0.870529</td>\n",
       "      <td>1.380768</td>\n",
       "      <td>0.848885</td>\n",
       "    </tr>\n",
       "    <tr>\n",
       "      <th>variance</th>\n",
       "      <td>0.120070</td>\n",
       "      <td>1.686266</td>\n",
       "      <td>1.439594</td>\n",
       "      <td>2.847127</td>\n",
       "      <td>1.451062</td>\n",
       "      <td>2.329900</td>\n",
       "      <td>0.757821</td>\n",
       "      <td>1.906521</td>\n",
       "      <td>0.720605</td>\n",
       "    </tr>\n",
       "  </tbody>\n",
       "</table>\n",
       "</div>"
      ],
      "text/plain": [
       "             loc 1     loc 2     loc 3     loc 4     loc 5     loc 6  \\\n",
       "mean      7.674511  8.130277  7.822657  8.210888  8.792314  7.241038   \n",
       "stdev     0.346511  1.298563  1.199831  1.687343  1.204600  1.526401   \n",
       "variance  0.120070  1.686266  1.439594  2.847127  1.451062  2.329900   \n",
       "\n",
       "             loc 7     loc 8     loc 9  \n",
       "mean      7.707534  7.791320  7.895915  \n",
       "stdev     0.870529  1.380768  0.848885  \n",
       "variance  0.757821  1.906521  0.720605  "
      ]
     },
     "execution_count": 32,
     "metadata": {},
     "output_type": "execute_result"
    }
   ],
   "source": [
    "print('Homogeneity Variance Test')\n",
    "f,p=stats.levene(day_by_day[0],day_by_day[1],\n",
    "                 day_by_day[2],day_by_day[3],\n",
    "                 day_by_day[4],day_by_day[5],\n",
    "                 day_by_day[6],day_by_day[7],\n",
    "                 day_by_day[8])\n",
    "print(str(p)+' > 0.05 ?\\n')\n",
    "\n",
    "print('ANOVA Results')\n",
    "f_value,pvalue=stats.f_oneway(day_by_day[0],day_by_day[1],\n",
    "                              day_by_day[2],day_by_day[3],\n",
    "                              day_by_day[4],day_by_day[5],\n",
    "                              day_by_day[6],day_by_day[7],\n",
    "                              day_by_day[8])\n",
    "print('f-value:',f_value)\n",
    "print(\"p-value:\",p_value)\n",
    "\n",
    "stat_dict={}\n",
    "for i in range(9):\n",
    "    stat_dict['loc ' + str(i+1)]=[statistics.mean(day_by_day[i]),statistics.stdev(day_by_day[i]),statistics.variance(day_by_day[i])]\n",
    "\n",
    "print('\\nBasic Information of Each Group')\n",
    "results=pd.DataFrame(stat_dict,index=['mean','stdev','variance'])\n",
    "results"
   ]
  },
  {
   "cell_type": "code",
   "execution_count": null,
   "metadata": {},
   "outputs": [],
   "source": []
  }
 ],
 "metadata": {
  "kernelspec": {
   "display_name": "base",
   "language": "python",
   "name": "python3"
  },
  "language_info": {
   "codemirror_mode": {
    "name": "ipython",
    "version": 3
   },
   "file_extension": ".py",
   "mimetype": "text/x-python",
   "name": "python",
   "nbconvert_exporter": "python",
   "pygments_lexer": "ipython3",
   "version": "3.9.13"
  },
  "orig_nbformat": 4,
  "vscode": {
   "interpreter": {
    "hash": "4438b8fd3946f6f3ffcdab16d00910de1c7e18c702b62df98cab6a792abc55c7"
   }
  }
 },
 "nbformat": 4,
 "nbformat_minor": 2
}
